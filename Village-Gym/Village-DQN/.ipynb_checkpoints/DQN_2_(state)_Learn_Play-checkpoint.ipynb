{
 "cells": [
  {
   "cell_type": "markdown",
   "metadata": {},
   "source": [
    "**DQN_Village_Agent_Game_Single_Crop**"
   ]
  },
  {
   "cell_type": "code",
   "execution_count": 1,
   "metadata": {},
   "outputs": [
    {
     "data": {
      "text/html": [
       "<style>.container { width:100% !important; }</style>"
      ],
      "text/plain": [
       "<IPython.core.display.HTML object>"
      ]
     },
     "metadata": {},
     "output_type": "display_data"
    }
   ],
   "source": [
    "from IPython.core.display import display, HTML\n",
    "display(HTML(\"<style>.container { width:100% !important; }</style>\"))\n"
   ]
  },
  {
   "cell_type": "code",
   "execution_count": 2,
   "metadata": {},
   "outputs": [
    {
     "ename": "ModuleNotFoundError",
     "evalue": "No module named 'matplotlib'",
     "output_type": "error",
     "traceback": [
      "\u001b[0;31m---------------------------------------------------------------------------\u001b[0m",
      "\u001b[0;31mModuleNotFoundError\u001b[0m                       Traceback (most recent call last)",
      "\u001b[0;32m<ipython-input-2-b57692b33ab0>\u001b[0m in \u001b[0;36m<module>\u001b[0;34m\u001b[0m\n\u001b[1;32m      3\u001b[0m \u001b[0;32mfrom\u001b[0m \u001b[0mrandom\u001b[0m \u001b[0;32mimport\u001b[0m \u001b[0mrandom\u001b[0m \u001b[0;32mas\u001b[0m \u001b[0mrand\u001b[0m\u001b[0;34m\u001b[0m\u001b[0;34m\u001b[0m\u001b[0m\n\u001b[1;32m      4\u001b[0m \u001b[0;34m\u001b[0m\u001b[0m\n\u001b[0;32m----> 5\u001b[0;31m \u001b[0;32mimport\u001b[0m \u001b[0mmatplotlib\u001b[0m\u001b[0;34m.\u001b[0m\u001b[0mpyplot\u001b[0m \u001b[0;32mas\u001b[0m \u001b[0mplt\u001b[0m\u001b[0;34m\u001b[0m\u001b[0;34m\u001b[0m\u001b[0m\n\u001b[0m\u001b[1;32m      6\u001b[0m \u001b[0;34m\u001b[0m\u001b[0m\n\u001b[1;32m      7\u001b[0m \u001b[0;32mfrom\u001b[0m \u001b[0mdatetime\u001b[0m \u001b[0;32mimport\u001b[0m \u001b[0mdatetime\u001b[0m\u001b[0;34m\u001b[0m\u001b[0;34m\u001b[0m\u001b[0m\n",
      "\u001b[0;31mModuleNotFoundError\u001b[0m: No module named 'matplotlib'"
     ]
    }
   ],
   "source": [
    "import numpy as np\n",
    "import pandas as pd\n",
    "from random import random as rand\n",
    "\n",
    "import matplotlib.pyplot as plt\n",
    "\n",
    "from datetime import datetime\n",
    "import itertools\n",
    "import argparse\n",
    "import re\n",
    "import os\n",
    "import pickle\n",
    "\n",
    "from sklearn.preprocessing import StandardScaler\n"
   ]
  },
  {
   "cell_type": "code",
   "execution_count": null,
   "metadata": {},
   "outputs": [],
   "source": [
    "# use variables CORN , BEAN , COTTON \n",
    "def get_data(period):\n",
    "     # returns a T x 3 list of market prices\n",
    "     # each row is a different step \n",
    "     # 0 = Hold\n",
    "     # 1 = Plant\n",
    "     # 2 = Sell\n",
    "    df=pd.DataFrame(columns=[\"CORN\",\"BEAN\",\"COTTON\"])\n",
    "\n",
    "    corn_base_price = 20.0\n",
    "    bean_base_price = 25.0\n",
    "    cotton_base_price = 30.0\n",
    "    df[\"CORN\"] =np.random.normal(60.0, 20.0, period)\n",
    "    df[\"BEAN\"] =np.random.normal(70.0, 25.0, period)\n",
    "    df[\"COTTON\"] =np.random.normal(100.0, 30.0, period)    \n",
    "    df[\"CORN\"].where(df[\"CORN\"]<=corn_base_price, corn_base_price)\n",
    "    df['BEAN'].where(df['BEAN']<=bean_base_price, bean_base_price)\n",
    "    df['COTTON'].where(df['COTTON']<=cotton_base_price, cotton_base_price)   \n",
    "    return df.values"
   ]
  },
  {
   "cell_type": "code",
   "execution_count": 3,
   "metadata": {},
   "outputs": [],
   "source": [
    "def get_scaler(env):\n",
    "# return scikit-learn scaler object to scale the states\n",
    "# Note: you could also populate the replay buffer here\n",
    "    states = []\n",
    "    keys = [0,1,2,3,4,5,6,7,8,9,10,11,12,13,14,15,16,17,18,19,20,21,22,23,24,25]\n",
    "    values = [1,1,1,0,0,2,2,2,3,3,3,3,3,1,1,1,0,0,2,2,2,3,3,3,3,3]\n",
    "    time_action = dict(zip(keys, values))    \n",
    "    for step in range(env.n_step):  \n",
    "        action = time_action[step]            \n",
    "        state, reward, done, info = env.step(action)\n",
    "        states.append(state)\n",
    "        if done:\n",
    "            break\n",
    "#     print(\"===============states (statem reward, done, info)=========================\")\n",
    "#     for c in states:\n",
    "#         print(c)    \n",
    "    scaler = StandardScaler()\n",
    "    scaler.fit(states)     \n",
    "    return scaler "
   ]
  },
  {
   "cell_type": "code",
   "execution_count": 4,
   "metadata": {},
   "outputs": [],
   "source": [
    "# to store trained model with result\n",
    "def maybe_make_dir(directory):\n",
    "    if not os.path.exists(directory):\n",
    "        os.makedirs(directory)\n"
   ]
  },
  {
   "cell_type": "code",
   "execution_count": 5,
   "metadata": {},
   "outputs": [],
   "source": [
    "class DQLModel:\n",
    "    \"\"\" Neural Network Model with Stochastic Gradient Descent \"\"\"\n",
    "    def __init__(self, input_dim, n_action):\n",
    "        self.W = np.random.randn(input_dim, n_action) / np.sqrt(input_dim)\n",
    "        self.b = np.zeros(n_action)\n",
    "\n",
    "        # momentum terms\n",
    "        self.vW = 0\n",
    "        self.vb = 0\n",
    "\n",
    "        self.losses = []\n",
    "    \n",
    "    #Predict function to predict the state Q value\n",
    "    def predict(self, X):\n",
    "        # make sure X is N x D\n",
    "        assert(len(X.shape) == 2)\n",
    "        return X.dot(self.W) + self.b\n",
    "    \n",
    "    #Stochastic Gradient Descent\n",
    "    def sgd(self, X, Y, learning_rate=0.0001, momentum=0.99):\n",
    "        # make sure dimension of X is N x D\n",
    "        assert(len(X.shape) == 2)\n",
    "\n",
    "        # the loss values are 2-D\n",
    "        # normally we would divide by N only\n",
    "        # but now we divide by N x K\n",
    "        num_values = np.prod(Y.shape)    \n",
    "        \n",
    "        # do one step of gradient descent\n",
    "        # we multiply by 2 to get the exact gradient\n",
    "        # (not adjusting the learning rate)\n",
    "        # i.e. d/dx (x^2) --> 2x\n",
    "        Yhat = self.predict(X)\n",
    "        gW = 2 * X.T.dot(Yhat - Y) / num_values\n",
    "        gb = 2 * (Yhat - Y).sum(axis=0) / num_values          \n",
    "        \n",
    "        # update momentum terms\n",
    "        self.vW = momentum * self.vW - learning_rate * gW\n",
    "        self.vb = momentum * self.vb - learning_rate * gb       \n",
    "        \n",
    "\n",
    "        # update params\n",
    "        self.W += self.vW\n",
    "        self.b += self.vb\n",
    "\n",
    "#         print(\"weight : \", self.W)       \n",
    "        \n",
    "        mse = np.mean((Yhat - Y)**2)        \n",
    "        self.losses.append(mse)\n",
    "        \n",
    "        return mse\n",
    "    \n",
    "    def load_weights(self, filepath):\n",
    "        npz = np.load(filepath)\n",
    "        self.W = npz['W']\n",
    "        self.b = npz['b']\n",
    "\n",
    "    def save_weights(self, filepath):\n",
    "        np.savez(filepath, W=self.W, b=self.b)\n"
   ]
  },
  {
   "cell_type": "code",
   "execution_count": 6,
   "metadata": {},
   "outputs": [
    {
     "ename": "NameError",
     "evalue": "name 'itertools' is not defined",
     "output_type": "error",
     "traceback": [
      "\u001b[0;31m---------------------------------------------------------------------------\u001b[0m",
      "\u001b[0;31mNameError\u001b[0m                                 Traceback (most recent call last)",
      "\u001b[0;32m<ipython-input-6-a95fd7c1777b>\u001b[0m in \u001b[0;36m<module>\u001b[0;34m\u001b[0m\n\u001b[0;32m----> 1\u001b[0;31m \u001b[0maction_list\u001b[0m \u001b[0;34m=\u001b[0m \u001b[0mlist\u001b[0m\u001b[0;34m(\u001b[0m\u001b[0mmap\u001b[0m\u001b[0;34m(\u001b[0m\u001b[0mlist\u001b[0m\u001b[0;34m,\u001b[0m \u001b[0mitertools\u001b[0m\u001b[0;34m.\u001b[0m\u001b[0mproduct\u001b[0m\u001b[0;34m(\u001b[0m\u001b[0;34m[\u001b[0m\u001b[0;36m0\u001b[0m\u001b[0;34m,\u001b[0m \u001b[0;36m1\u001b[0m\u001b[0;34m,\u001b[0m \u001b[0;36m2\u001b[0m\u001b[0;34m,\u001b[0m \u001b[0;36m3\u001b[0m\u001b[0;34m]\u001b[0m\u001b[0;34m,\u001b[0m \u001b[0mrepeat\u001b[0m \u001b[0;34m=\u001b[0m \u001b[0;36m1\u001b[0m\u001b[0;34m)\u001b[0m\u001b[0;34m)\u001b[0m\u001b[0;34m)\u001b[0m\u001b[0;34m\u001b[0m\u001b[0;34m\u001b[0m\u001b[0m\n\u001b[0m\u001b[1;32m      2\u001b[0m \u001b[0maction_list\u001b[0m\u001b[0;34m\u001b[0m\u001b[0;34m\u001b[0m\u001b[0m\n",
      "\u001b[0;31mNameError\u001b[0m: name 'itertools' is not defined"
     ]
    }
   ],
   "source": [
    "action_list = list(map(list, itertools.product([0, 1, 2, 3], repeat = 1)))\n",
    "action_list"
   ]
  },
  {
   "cell_type": "code",
   "execution_count": 8,
   "metadata": {},
   "outputs": [],
   "source": [
    "class VillageEnv:\n",
    "    \"\"\"\n",
    "    A 3-item village gaming environment.\n",
    "    𝑠𝑡𝑎𝑡𝑒  = [𝑚𝑜𝑛𝑒𝑦 𝑣𝑎𝑙𝑢𝑒, 𝑙𝑎𝑏𝑜𝑟 𝑢𝑛𝑖𝑡𝑠, 𝑤𝑒𝑒𝑘, 𝑐𝑜𝑟𝑛 𝑝𝑟𝑖𝑐𝑒, 𝑝𝑙𝑎𝑛𝑡𝑒𝑑 𝑐𝑜𝑟𝑛, ℎ𝑎𝑟𝑣𝑒𝑠𝑡𝑒𝑑 𝑐𝑜𝑟𝑛, 𝑠𝑡𝑜𝑟𝑒𝑑 𝑐𝑜𝑟𝑛]\n",
    "\n",
    "    State: vector of size 7 (1 * 5 + 2)\n",
    "        - # 𝑝𝑙𝑎𝑛𝑡𝑒𝑑_c𝑜𝑟𝑛 - planted corn\n",
    "        - # harvested_𝑐𝑜𝑟n - harvested corn      \n",
    "        - 𝑐𝑜𝑟𝑛_𝑝𝑟𝑖𝑐𝑒: market price of the corn         \n",
    "        - Money Value (can be used to purchase more labor units and pay the family expenses)\n",
    "        - 𝑙𝑎𝑏𝑜𝑟_𝑢𝑛𝑖𝑡𝑠 (can be used to plant & harves crops)\n",
    "    Action: categorical variable with 4 possibilites\n",
    "        - for each stock, you can:\n",
    "        - 0 = Hold  (do nothing)\n",
    "        - 1 = Plant\n",
    "        - 2 = Harvest\n",
    "        - 3 = Sell       \n",
    "    \"\"\"\n",
    "    def __init__(self, number_of_weeks, number_of_crops, initial_investment=1000, initial_labor_unit=52, initial_price=0):\n",
    "        # data\n",
    "#         self.market_price_time_series = data\n",
    "        self.n_step, self.n_crop = number_of_weeks, number_of_crops\n",
    "\n",
    "        # instance attributes\n",
    "        self.initial_investment = initial_investment\n",
    "        self.initial_labor_unit = initial_labor_unit\n",
    "        self.market_price = initial_price  \n",
    "        self.cur_step = None\n",
    "        self.crop_in_barn = None\n",
    "        self.crop_planted = None\n",
    "#         self.crop_harvested = None             \n",
    "        self.cash_in_hand = None\n",
    "        self.labor_in_hand = None\n",
    "\n",
    "        self.action_space = np.arange(3**number_of_crops +1)\n",
    "        # action permutations\n",
    "        # returns a nested list with elements like:\n",
    "        # [0]        \n",
    "        # 0 = hold\n",
    "        # 1 = plant\n",
    "        # 2 = harvest\n",
    "        # 3 = sell\n",
    "        self.action_list = list(map(list, itertools.product([0, 1, 2, 3], repeat = self.n_crop)))       \n",
    "        # calculate size of state\n",
    "        self.state_dim = self.n_crop * 5 + 2\n",
    "        self.reset()\n",
    "    \n",
    "    def reset(self):\n",
    "        self.cur_step = 0\n",
    "        self.crop_planted = np.zeros(self.n_crop)\n",
    "#         self.crop_harvested = np.zeros(self.n_crop)          \n",
    "        self.crop_in_barn = np.zeros(self.n_crop)        \n",
    "        self.cash_in_hand = self.initial_investment\n",
    "        self.labor_in_hand = self.initial_labor_unit\n",
    "        self.week          = self.cur_step \n",
    "        \n",
    "        return self._get_obs()\n",
    "    \n",
    "    def _get_obs(self):        \n",
    "        obs                              = np.empty(self.state_dim)        \n",
    "        obs[:self.n_crop]                = self.crop_planted        \n",
    "        obs[self.n_crop:2*self.n_crop]   = self.crop_in_barn       \n",
    "        obs[2*self.n_crop:3*self.n_crop] = self.market_price\n",
    "#         obs[3*self.n_crop:4*self.n_crop] = self.market_price\n",
    "         \n",
    "        obs[-3] = self.week\n",
    "        obs[-2] = self.labor_in_hand\n",
    "        obs[-1] = self.cash_in_hand\n",
    "\n",
    "        return obs\n",
    "    \n",
    "    \n",
    "    def step(self, action):\n",
    "        assert action in self.action_space\n",
    "\n",
    "        # get current value before performing the action\n",
    "        prev_val = self._get_val()\n",
    "#         print(\"Action...:\", action,\"    prev_val...\", prev_val)\n",
    "\n",
    "        # update price, i.e. go to the next day\n",
    "        self.cur_step += 1  \n",
    "        self._get_market_price()        \n",
    "        \n",
    "        # perform the action\n",
    "        self._trade(action)\n",
    "\n",
    "        # get the new value after taking the action\n",
    "        cur_val = self._get_val()\n",
    "\n",
    "        # reward is the increase in porfolio value\n",
    "        reward = cur_val - prev_val\n",
    "        \n",
    "\n",
    "        # done if we have reached out the end of the time series step or money value is zero\n",
    "        done = (self.cur_step == self.n_step)|(self.cash_in_hand < 0)\n",
    "        \n",
    "#         print(\"number of step:\", self.n_step,\"current step:\", self.cur_step,\"cash_in_hand:\",self.cash_in_hand, \" done\", done )\n",
    "\n",
    "        # store the current value of the portfolio here\n",
    "        info = {'cur_val': cur_val, 'cash_in_hand': self.cash_in_hand, \"cur_step\":self.cur_step}\n",
    "\n",
    "        # conform to the Gym API        \n",
    "        return self._get_obs(), reward, done, info\n",
    "    \n",
    "    # get market price of the crop\n",
    "    def _get_market_price(self):\n",
    "        r = rand()\n",
    "        if self.cur_step == 9:             \n",
    "            self.market_price =  50 if r < 0.5 else 100            \n",
    "        elif self.cur_step == 10: \n",
    "            self.market_price =  60 if r < 0.4 else 100 \n",
    "        elif self.cur_step  == 11:\n",
    "            self.market_price =  70 if r < 0.3 else 100 \n",
    "        elif self.cur_step  == 12:\n",
    "            self.market_price =  80 if r < 0.2 else 100 \n",
    "        elif self.cur_step  == 13:\n",
    "            self.market_price =  90 if r < 0.1 else 100 \n",
    "        else:\n",
    "            self.market_price = 0      \n",
    " \n",
    "    \n",
    "    #Get the q value of the state\n",
    "    def _get_val(self):\n",
    "        self.planted_crop_value = [50] \n",
    "        self.barn_crop_value = [80] \n",
    "        wealth = (self.crop_planted.dot(self.planted_crop_value) +                  \n",
    "                 self.crop_in_barn.dot(self.barn_crop_value) + self.cash_in_hand)        \n",
    "        return wealth\n",
    "    \n",
    "    # perform the action\n",
    "    def _trade(self, action):\n",
    "        # index the action we want to perform\n",
    "        # 0 = hold\n",
    "        # 1 = plant\n",
    "        # 2 = harvest\n",
    "        # 3 = sell       \n",
    "        self.money_val_to_plant = 25\n",
    "        self.money_val_to_harvest = 5\n",
    "        action_vec = self.action_list[action]\n",
    "       \n",
    "        # determine which stocks to buy or sell\n",
    "        sell_index = [] # stores index of crops we want to sell\n",
    "        plant_index = [] # stores index of crops we want to plant\n",
    "        \n",
    "        self.cash_in_hand -= 25    #Weekly expense for family   \n",
    " \n",
    "        # Take action PLANT\n",
    "        if action_vec[0] == 1:            \n",
    "            # PLANT ACTION: Choose number of crops to plant            \n",
    "            unit_to_plant = np.random.choice(3)+1             \n",
    "           \n",
    "            for i in range(unit_to_plant):                    \n",
    "                    if self.labor_in_hand > 40:\n",
    "                        self.crop_planted[0] += 1\n",
    "                        self.labor_in_hand -= 25\n",
    "                        unit_to_plant -=1                                          \n",
    "                    else:\n",
    "                        break    \n",
    "        \n",
    "        # Take action HARVEST    \n",
    "        if action_vec[0] == 2:            \n",
    "            unit_to_harvest = int(self.crop_planted[0])\n",
    "            # PLANT ACTION: Choose number of crops to plant            \n",
    "            for i in range(unit_to_harvest): \n",
    "                if self.labor_in_hand > 5:                   \n",
    "                    self.crop_in_barn[0] += 1\n",
    "                    self.labor_in_hand -= 5\n",
    "                    self.crop_planted[0] -= 1                \n",
    "                else:\n",
    "                    break               \n",
    "\n",
    "        # Take action SELL\n",
    "        if action_vec[0] == 3:            \n",
    "            if self.crop_in_barn[0] > 0.0:\n",
    "                if int(self.cur_step) == 9 or int(self.cur_step) == 22: \n",
    "#                     print(\"sell at step\",self.cur_step,\"....\")                    \n",
    "                    self.crop_in_barn -= 1\n",
    "                    self.cash_in_hand += self.market_price\n",
    "#                     print(\"step+++++: \", self.cur_step, \"market_price: \", self.market_price, \"cash in hand: \",self.cash_in_hand)\n",
    "                else:\n",
    "                    r = rand()\n",
    "#                     print(\"sell at step\",self.cur_step,\"===\")\n",
    "                    threshold = (self.cur_step/12.0) if (self.cur_step < 13 and self.cur_step > 9) else (self.cur_step/25.0)\n",
    "                    if r < threshold:                        \n",
    "                        self.crop_in_barn -= 1\n",
    "                        self.cash_in_hand += self.market_price\n",
    "#             print(\"current step: \", self.cur_step,\"  crop in barn:\", self.crop_in_barn[0], \"  cash in hand:\", self.cash_in_hand)     \n",
    "            \n",
    "            \n"
   ]
  },
  {
   "cell_type": "code",
   "execution_count": 9,
   "metadata": {},
   "outputs": [],
   "source": [
    "class DQNAgent(object):\n",
    "    def __init__(self, state_size, action_size):\n",
    "        self.state_size = state_size\n",
    "        self.action_size = action_size\n",
    "        self.gamma = 0.95  # discount rate\n",
    "        self.epsilon = 1.0  # exploration rate\n",
    "        self.epsilon_min = 0.01\n",
    "        self.epsilon_decay = 0.995\n",
    "        self.model = DQLModel(state_size, action_size)\n",
    "    \n",
    "    def act(self, state,step):        \n",
    "        if np.random.rand() <= self.epsilon:\n",
    "            keys = [0,1,2,3,4,5,6,7,8,9,10,11,12,13,14,15,16,17,18,19,20,21,22,23,24,25]\n",
    "            values = [1,1,1,0,0,2,2,2,3,3,3,3,3,1,1,1,0,0,2,2,2,3,3,3,3,3]\n",
    "            time_action = dict(zip(keys, values))           \n",
    "            action = time_action[step]\n",
    "#             print(\"step\",step,\"action@@@@@@: \",action, \"rand_action:\", np.random.choice(self.action_size-2) )\n",
    "#             return np.random.choice(self.action_size-2)\n",
    "            return action\n",
    "        act_values = self.model.predict(state)\n",
    "        \n",
    "        return np.argmax(act_values[0])  # returns action\n",
    "    \n",
    "    #train the network using back probagation & SGD optimizer with momentum term \n",
    "    def train(self, state, action, reward, next_state, done):\n",
    "        if done:\n",
    "            target = reward\n",
    "        else:\n",
    "            target = reward + self.gamma * np.argmax(self.model.predict(next_state), axis=1)\n",
    "\n",
    "        target_full = self.model.predict(state)\n",
    "        target_full[0, action] = target\n",
    "        \n",
    "        \n",
    "#       print(\"target_full:\", target_full)\n",
    "        # Run one training step\n",
    "        error = self.model.sgd(state, target_full)       \n",
    "        \n",
    "        \n",
    "#         print(\"  action: \",action, \"  reward:\", reward,  \" error: \", error)\n",
    "        if self.epsilon > self.epsilon_min:\n",
    "            self.epsilon *= self.epsilon_decay\n",
    "    \n",
    "    \n",
    "    def load(self, name):\n",
    "        self.model.load_weights(name)\n",
    "\n",
    "\n",
    "    def save(self, name):\n",
    "        self.model.save_weights(name)"
   ]
  },
  {
   "cell_type": "code",
   "execution_count": 10,
   "metadata": {},
   "outputs": [],
   "source": [
    "def play_one_episode(agent, env, is_train):\n",
    "    state = env.reset()\n",
    "    state = scaler.transform([state])\n",
    "    done = False\n",
    "    step = 0\n",
    "    while not done:        \n",
    "        action = agent.act(state,step)\n",
    "        next_state, reward, done, info = env.step(action)\n",
    "        step = info[\"cur_step\"]+1\n",
    "#         print(\"step:\",info[\"cur_step\"], \"done:\", done, \"cash in hand\",info['cash_in_hand'])\n",
    "        next_state = scaler.transform([next_state])\n",
    "        if is_train == 'train':\n",
    "            agent.train(state, action, reward, next_state, done)\n",
    "        state = next_state\n",
    "\n",
    "    return info['cur_val'], info['cash_in_hand']"
   ]
  },
  {
   "cell_type": "code",
   "execution_count": 11,
   "metadata": {},
   "outputs": [],
   "source": [
    "# Import the libraries\n",
    "import matplotlib.pyplot as plt\n",
    "import seaborn as sns\n",
    "\n",
    "def plot_metrics(x, xlabel, ylabel, title):\n",
    "    # matplotlib histogram\n",
    "    plt.hist(x, color = 'blue', edgecolor = 'black',\n",
    "             bins = 10)\n",
    "\n",
    "    # seaborn histogram\n",
    "    sns.distplot(x, hist=True, kde=False, \n",
    "                 bins=10, color = 'blue',\n",
    "                 hist_kws={'edgecolor':'black'})\n",
    "    # Add labels\n",
    "    plt.title(title)\n",
    "    plt.xlabel(xlabel)\n",
    "    plt.ylabel(ylabel)\n",
    "    plt.show()"
   ]
  },
  {
   "cell_type": "code",
   "execution_count": 12,
   "metadata": {
    "scrolled": false
   },
   "outputs": [
    {
     "name": "stdout",
     "output_type": "stream",
     "text": [
      "***********State size 7, Action Size 4\n",
      "episode: 50/1000, value: 100.00, cash: 100.00, avg_cash: 100.00 duration: 0:00:00.000997\n",
      "episode: 100/1000, value: 60.00, cash: 60.00, avg_cash: 60.00 duration: 0:00:00.000961\n",
      "episode: 150/1000, value: 50.00, cash: 50.00, avg_cash: 50.00 duration: 0:00:00.000997\n",
      "episode: 200/1000, value: 100.00, cash: 100.00, avg_cash: 100.00 duration: 0:00:00.001994\n",
      "episode: 250/1000, value: 200.00, cash: 200.00, avg_cash: 200.00 duration: 0:00:00.001065\n",
      "episode: 300/1000, value: 160.00, cash: 160.00, avg_cash: 160.00 duration: 0:00:00.000995\n",
      "episode: 350/1000, value: 170.00, cash: 170.00, avg_cash: 170.00 duration: 0:00:00.001048\n",
      "episode: 400/1000, value: 200.00, cash: 200.00, avg_cash: 200.00 duration: 0:00:00.003942\n",
      "episode: 450/1000, value: 50.00, cash: 50.00, avg_cash: 50.00 duration: 0:00:00.002906\n",
      "episode: 500/1000, value: 10.00, cash: 10.00, avg_cash: 10.00 duration: 0:00:00.001909\n",
      "episode: 550/1000, value: 120.00, cash: 120.00, avg_cash: 120.00 duration: 0:00:00.001990\n",
      "episode: 600/1000, value: 200.00, cash: 200.00, avg_cash: 200.00 duration: 0:00:00.002912\n",
      "episode: 650/1000, value: 150.00, cash: 150.00, avg_cash: 150.00 duration: 0:00:00.002936\n",
      "episode: 700/1000, value: 10.00, cash: 10.00, avg_cash: 10.00 duration: 0:00:00.003055\n",
      "episode: 750/1000, value: 110.00, cash: 110.00, avg_cash: 110.00 duration: 0:00:00.002078\n",
      "episode: 800/1000, value: 10.00, cash: 10.00, avg_cash: 10.00 duration: 0:00:00.001924\n",
      "episode: 850/1000, value: 200.00, cash: 200.00, avg_cash: 200.00 duration: 0:00:00.002061\n",
      "episode: 900/1000, value: 100.00, cash: 100.00, avg_cash: 100.00 duration: 0:00:00.002910\n",
      "episode: 950/1000, value: 150.00, cash: 150.00, avg_cash: 150.00 duration: 0:00:00.000998\n",
      "episode: 1000/1000, value: 60.00, cash: 60.00, avg_cash: 60.00 duration: 0:00:00.003089\n"
     ]
    }
   ],
   "source": [
    "if __name__ == '__main__':\n",
    "    \n",
    "    # configuration\n",
    "    np.random.seed(seed=12)\n",
    "    models_folder = 'DQN_Village_Agent_models'\n",
    "    rewards_folder = 'DQN_Village_Agent_rewards'\n",
    "    num_episodes = 10000\n",
    "    # num_episodes = 20000\n",
    "    batch_size = 32\n",
    "    initial_investment = 225\n",
    "    initial_labor_unit = 100\n",
    "    mode = 'train'\n",
    "    number_of_weeks = 13\n",
    "    number_of_crops = 1\n",
    "\n",
    "    maybe_make_dir(models_folder)\n",
    "    maybe_make_dir(rewards_folder)\n",
    "    \n",
    "    n_timesteps, n_stocks = number_of_weeks, number_of_crops\n",
    "    \n",
    "    \n",
    "    # Create train and test data of market prices\n",
    "    n_train = n_timesteps\n",
    "#     n_train = n_timesteps // 2\n",
    "#     train_data = data[:n_train]\n",
    "#     test_data = data[n_train:]\n",
    "    \n",
    "    #create environment object\n",
    "    env = VillageEnv(number_of_weeks, number_of_crops, initial_investment,initial_labor_unit)    \n",
    "    state_size = env.state_dim\n",
    "    action_size = len(env.action_space)\n",
    "    print(\"***********State size {}, Action Size {}\".format(state_size,action_size))\n",
    "\n",
    "\n",
    "    agent = DQNAgent(state_size, action_size)\n",
    "    scaler = get_scaler(env)\n",
    "\n",
    "    # store the final value of the portfolio (end of episode)\n",
    "    money_value = []\n",
    "    episode = []\n",
    "    money_50 = []\n",
    "    episode_50 = []\n",
    "\n",
    "    if mode == 'train':\n",
    "        # then load the previous scaler\n",
    "        with open(f'{models_folder}/scaler.pkl', 'rb') as f:\n",
    "            scaler = pickle.load(f)\n",
    "\n",
    "        # remake the env with test data\n",
    "        env = VillageEnv(number_of_weeks, number_of_crops, initial_investment,initial_labor_unit)\n",
    "\n",
    "        # make sure epsilon is not 1!\n",
    "        # no need to run multiple episodes if epsilon = 0, it's deterministic\n",
    "        agent.epsilon = 0.01\n",
    "\n",
    "        # load trained weights\n",
    "        agent.load(f'{models_folder}/linear.npz')\n",
    "\n",
    "    # play the game num_episodes times\n",
    "    for e in range(num_episodes):\n",
    "        t0 = datetime.now()\n",
    "        val, cash = play_one_episode(agent, env, mode)\n",
    "        dt = datetime.now() - t0\n",
    "        if (e+1)%50 == 0:\n",
    "#           print(f\"episode: {e + 1}/{num_episodes}, value: {val:.2f},cash: {cash:.2f},max_cash: {np.max(money_value):.2f}\")\n",
    "            print(f\"episode: {e + 1}/{num_episodes}, value: {val:.2f}, cash: {cash:.2f}, avg_cash: {np.mean(cash):.2f} duration: {dt}\")\n",
    "            money_50.append(np.mean(cash))\n",
    "            episode_50.append(e+1)\n",
    "        money_value.append(cash) # append episode end portfolio value\n",
    "        episode.append(e+1)\n",
    "\n",
    "\n",
    "    # save the weights when we are done\n",
    "    if mode == 'train':\n",
    "        # save the DQN\n",
    "        agent.save(f'{models_folder}/linear.npz')\n",
    "\n",
    "        # save the scaler\n",
    "        with open(f'{models_folder}/scaler.pkl', 'wb') as f:\n",
    "            pickle.dump(scaler, f)\n",
    "\n",
    "        # plot losses\n",
    "    #     plt.plot(agent.model.losses)\n",
    "        xlabel = \"Losses\"\n",
    "        ylabel = \"Frequency count\"\n",
    "        title = \"Distribution of Model Losses\"\n",
    "        plot_metrics(agent.model.losses, xlabel, ylabel, title)\n",
    "    #     plt.show()\n",
    "\n",
    "    # save portfolio value for each episode\n",
    "    np.save(f'{rewards_folder}/{mode}.npy', money_value)\n"
   ]
  },
  {
   "cell_type": "code",
   "execution_count": 13,
   "metadata": {
    "scrolled": false
   },
   "outputs": [],
   "source": [
    "if mode == 'train':\n",
    "    print(\"average train loss: {}\".format(round(np.mean(agent.model.losses),3)))\n",
    "    print(\"min train loss: {}, max train loss: {}\".format(round(np.min(agent.model.losses),3),\n",
    "                                                          round(np.max(agent.model.losses),3)))"
   ]
  },
  {
   "cell_type": "code",
   "execution_count": 14,
   "metadata": {
    "scrolled": false
   },
   "outputs": [],
   "source": [
    "# agent.model.losses"
   ]
  },
  {
   "cell_type": "code",
   "execution_count": 15,
   "metadata": {},
   "outputs": [
    {
     "data": {
      "image/png": "[encoded data removed]",
      "text/plain": [
       "<Figure size 432x288 with 1 Axes>"
      ]
     },
     "metadata": {
      "needs_background": "light"
     },
     "output_type": "display_data"
    }
   ],
   "source": [
    "x = money_value\n",
    "title = 'Cash in Hand Distribution'\n",
    "xlabel = 'Money Vaue'\n",
    "ylabel = 'Frequency Count'\n",
    "\n",
    "plot_metrics(x, xlabel, ylabel, title)"
   ]
  },
  {
   "cell_type": "code",
   "execution_count": 16,
   "metadata": {},
   "outputs": [
    {
     "data": {
      "text/plain": [
       "200"
      ]
     },
     "execution_count": 16,
     "metadata": {},
     "output_type": "execute_result"
    }
   ],
   "source": [
    "max(money_value)"
   ]
  },
  {
   "cell_type": "code",
   "execution_count": 17,
   "metadata": {
    "scrolled": false
   },
   "outputs": [],
   "source": [
    "\n",
    "res = pd.DataFrame(list(zip(episode, money_value)))\n",
    "res.columns= ['Episode','Value']\n",
    "res['Episode']=50*(res['Episode']//50+1)\n",
    "res['model']='DQN-1(State)'"
   ]
  },
  {
   "cell_type": "code",
   "execution_count": 18,
   "metadata": {},
   "outputs": [],
   "source": [
    "res.to_csv(\"play.csv\",index=False)"
   ]
  },
  {
   "cell_type": "code",
   "execution_count": 19,
   "metadata": {},
   "outputs": [],
   "source": [
    "res1 = res.copy()\n",
    "res1['Value'] = 225\n",
    "res1['model'] = \"ORACLE\""
   ]
  },
  {
   "cell_type": "code",
   "execution_count": 20,
   "metadata": {},
   "outputs": [],
   "source": [
    "res2 = res.copy()\n",
    "res2['model']='DQN-2(State)'"
   ]
  },
  {
   "cell_type": "code",
   "execution_count": 21,
   "metadata": {},
   "outputs": [],
   "source": [
    "test = pd.concat([res,res1,res2])"
   ]
  },
  {
   "cell_type": "code",
   "execution_count": 22,
   "metadata": {},
   "outputs": [],
   "source": [
    "result =pd.concat([res,res1], axis=0)"
   ]
  },
  {
   "cell_type": "code",
   "execution_count": 24,
   "metadata": {},
   "outputs": [
    {
     "data": {
      "text/plain": [
       "model\n",
       "DQN-1(State)    -25\n",
       "ORACLE          225\n",
       "Name: Value, dtype: int64"
      ]
     },
     "execution_count": 24,
     "metadata": {},
     "output_type": "execute_result"
    }
   ],
   "source": [
    "result.groupby('model')['Value'].min()"
   ]
  },
  {
   "cell_type": "code",
   "execution_count": 25,
   "metadata": {},
   "outputs": [
    {
     "data": {
      "text/plain": [
       "model\n",
       "DQN-1(State)    200\n",
       "ORACLE          225\n",
       "Name: Value, dtype: int64"
      ]
     },
     "execution_count": 25,
     "metadata": {},
     "output_type": "execute_result"
    }
   ],
   "source": [
    "result.groupby('model')['Value'].max()"
   ]
  },
  {
   "cell_type": "code",
   "execution_count": 26,
   "metadata": {},
   "outputs": [
    {
     "data": {
      "text/plain": [
       "model\n",
       "DQN-1(State)    112.47\n",
       "ORACLE          225.00\n",
       "Name: Value, dtype: float64"
      ]
     },
     "execution_count": 26,
     "metadata": {},
     "output_type": "execute_result"
    }
   ],
   "source": [
    "result.groupby('model')['Value'].mean()"
   ]
  },
  {
   "cell_type": "code",
   "execution_count": 27,
   "metadata": {},
   "outputs": [],
   "source": [
    "from matplotlib import pyplot\n",
    "import seaborn\n",
    "\n",
    "import seaborn as sns\n",
    "sns.set_style(\"white\")\n",
    "# sns.set(style=\"darkgrid\")"
   ]
  },
  {
   "cell_type": "code",
   "execution_count": 30,
   "metadata": {},
   "outputs": [
    {
     "data": {
      "text/plain": [
       "<matplotlib.legend.Legend at 0x1f2355ade80>"
      ]
     },
     "execution_count": 30,
     "metadata": {},
     "output_type": "execute_result"
    },
    {
     "data": {
      "image/png": "[encoded data removed]",
      "text/plain": [
       "<Figure size 648x288 with 1 Axes>"
      ]
     },
     "metadata": {},
     "output_type": "display_data"
    }
   ],
   "source": [
    "# Plot the responses for different events and regions\n",
    "fig, ax = pyplot.subplots(figsize=(9,4))\n",
    "pyplot.title('MODEL PLAYING ', size=15)\n",
    "pyplot.xlabel('Episode', size=15)\n",
    "plt.ylim(0, 300)\n",
    "plt.xlim(0,1000)\n",
    "pyplot.ylabel('Cash', size=15)\n",
    "sns.lineplot(x=\"Episode\", y=\"Value\",hue='model',style=\"model\",markers=False, dashes=False,\n",
    "             data=result)\n",
    "pyplot.legend(loc='center left', bbox_to_anchor=(1, 0.5), ncol=1)"
   ]
  },
  {
   "cell_type": "code",
   "execution_count": 31,
   "metadata": {},
   "outputs": [
    {
     "data": {
      "image/png": "[encoded data removed]",
      "text/plain": [
       "<Figure size 360x360 with 1 Axes>"
      ]
     },
     "metadata": {},
     "output_type": "display_data"
    }
   ],
   "source": [
    "fig, ax = pyplot.subplots(figsize=(5,5))\n",
    "pyplot.title('MODELS COMPARISON (PLAY) ', size=15)\n",
    "ax = pyplot.xlabel('MODEL', size=15)\n",
    "ax = pyplot.ylabel('Value',size = 15)\n",
    "ax= sns.boxplot( y=\"Value\",palette=\"Set3\", x=\"model\", dodge=True, data = result)\n"
   ]
  },
  {
   "cell_type": "code",
   "execution_count": 32,
   "metadata": {},
   "outputs": [
    {
     "data": {
      "text/plain": [
       "model\n",
       "DQN-1(State)    112.47\n",
       "ORACLE          225.00\n",
       "Name: Value, dtype: float64"
      ]
     },
     "execution_count": 32,
     "metadata": {},
     "output_type": "execute_result"
    }
   ],
   "source": [
    "result.groupby('model')['Value'].mean()"
   ]
  },
  {
   "cell_type": "code",
   "execution_count": null,
   "metadata": {},
   "outputs": [],
   "source": []
  }
 ],
 "metadata": {
  "kernelspec": {
   "display_name": "Python 3",
   "language": "python",
   "name": "python3"
  },
  "language_info": {
   "codemirror_mode": {
    "name": "ipython",
    "version": 3
   },
   "file_extension": ".py",
   "mimetype": "text/x-python",
   "name": "python",
   "nbconvert_exporter": "python",
   "pygments_lexer": "ipython3",
   "version": "3.7.5"
  }
 },
 "nbformat": 4,
 "nbformat_minor": 2
}
